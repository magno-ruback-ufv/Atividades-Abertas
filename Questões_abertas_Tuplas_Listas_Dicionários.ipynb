{
  "nbformat": 4,
  "nbformat_minor": 0,
  "metadata": {
    "colab": {
      "provenance": [],
      "authorship_tag": "ABX9TyN/DcjV6NaaZFjlxT9KYCC0",
      "include_colab_link": true
    },
    "kernelspec": {
      "name": "python3",
      "display_name": "Python 3"
    },
    "language_info": {
      "name": "python"
    }
  },
  "cells": [
    {
      "cell_type": "markdown",
      "metadata": {
        "id": "view-in-github",
        "colab_type": "text"
      },
      "source": [
        "<a href=\"https://colab.research.google.com/github/magno-ruback-ufv/Atividades-Abertas/blob/main/Quest%C3%B5es_abertas_Tuplas_Listas_Dicion%C3%A1rios.ipynb\" target=\"_parent\"><img src=\"https://colab.research.google.com/assets/colab-badge.svg\" alt=\"Open In Colab\"/></a>"
      ]
    },
    {
      "cell_type": "markdown",
      "source": [
        "1. Qual o valor da variável ‘resultado’ após a execução do código? Explique sua\n",
        "resposta."
      ],
      "metadata": {
        "id": "X5uvbPG18-B9"
      }
    },
    {
      "cell_type": "code",
      "execution_count": 17,
      "metadata": {
        "colab": {
          "base_uri": "https://localhost:8080/"
        },
        "id": "DspWn--287Lp",
        "outputId": "7e054e58-f63e-4d08-9e50-0180e5704021"
      },
      "outputs": [
        {
          "output_type": "execute_result",
          "data": {
            "text/plain": [
              "14"
            ]
          },
          "metadata": {},
          "execution_count": 17
        }
      ],
      "source": [
        "#Exercício 1\n",
        "tupla = (3, 5, 7, 9)\n",
        "resultado = tupla[1] + tupla[-1]\n",
        "resultado"
      ]
    },
    {
      "cell_type": "markdown",
      "source": [
        "R: O resultado é 14, pois será somado o elemento da posição tupla[1] que é 5 (já que o primeiro elemento da tupla está na posição 0) com o elemento da posição tupla[-1] que é 9. Quando utilizamos -1 a tupla é lida a partir do último elemento que é o índice daquela posição."
      ],
      "metadata": {
        "id": "fHbCu7Es94DK"
      }
    },
    {
      "cell_type": "markdown",
      "source": [
        "2. Dado o código a seguir:"
      ],
      "metadata": {
        "id": "rS94f6YM_9G5"
      }
    },
    {
      "cell_type": "code",
      "source": [
        "#Exercício 2\n",
        "lista = [2, 4, 6, 8, 10]\n",
        "lista.append(12)\n",
        "# 2, 4, 6, 8, 10, 12\n",
        "lista.insert(2, 5)\n",
        "# 2, 4, 5, 6, 8, 10, 12\n",
        "del lista[4]\n",
        "# 2, 4, 5, 6, 10, 12\n",
        "lista"
      ],
      "metadata": {
        "colab": {
          "base_uri": "https://localhost:8080/"
        },
        "id": "p-9Yhh1wAiji",
        "outputId": "985fb773-1557-49d1-cac5-226f80d9f2ec"
      },
      "execution_count": 18,
      "outputs": [
        {
          "output_type": "execute_result",
          "data": {
            "text/plain": [
              "[2, 4, 5, 6, 10, 12]"
            ]
          },
          "metadata": {},
          "execution_count": 18
        }
      ]
    },
    {
      "cell_type": "markdown",
      "source": [
        "Qual será o conteúdo da lista após a execução do código? Descreva as alterações\n",
        "feitas em cada passo.\n",
        "\n",
        "R: [2, 4, 5, 6, 10, 12]\n",
        "- Lista é criada com os elementos [2, 4, 6, 8, 10]\n",
        "- append(12) insere o número 12 ao final da lista\n",
        "- lista.insert(2, 5) insere o número 5 na posição 2\n",
        "- del lista[4] exclui o elemento que se encontra na posição 4 da lista, no caso o número 8"
      ],
      "metadata": {
        "id": "M7vCpetSBA4_"
      }
    },
    {
      "cell_type": "markdown",
      "source": [
        "3. Qual será o estado final do dicionário após a execução do código? Explique como os valores foram alterados ou adicionados."
      ],
      "metadata": {
        "id": "qGh22JLqDFmg"
      }
    },
    {
      "cell_type": "code",
      "source": [
        "#Exercício 3\n",
        "dicionario = {'a': 1, 'b': 2, 'c': 3}\n",
        "dicionario['b'] = dicionario['c'] + 2\n",
        "dicionario['d'] = 4\n",
        "dicionario"
      ],
      "metadata": {
        "colab": {
          "base_uri": "https://localhost:8080/"
        },
        "id": "3GENkTD8DIQG",
        "outputId": "2818fa01-a5ee-47a6-d1e3-bcea8582f92b"
      },
      "execution_count": 19,
      "outputs": [
        {
          "output_type": "execute_result",
          "data": {
            "text/plain": [
              "{'a': 1, 'b': 5, 'c': 3, 'd': 4}"
            ]
          },
          "metadata": {},
          "execution_count": 19
        }
      ]
    },
    {
      "cell_type": "markdown",
      "source": [
        "R: {'a': 1, 'b': 5, 'c': 3, 'd': 4}\n",
        "- Dicionário criado com os seguintes pares de chave-valor {'a': 1, 'b': 2, 'c': 3}\n",
        "- dicionario['b'] = dicionario['c'] + 2, atribui o valor da chave c + 2 à chave 'b'. No caso, b tinha valor 2 e recebeu c (que tem valor 3) + 2, portanto, o valor final de b é 5\n",
        "- dicionario['d'] = 4 cria um novo par de chave-valor ao final do dicionário, no caso, 'd' = 4"
      ],
      "metadata": {
        "id": "xsKlnCVvDwrW"
      }
    },
    {
      "cell_type": "markdown",
      "source": [
        "4. Qual será o conteúdo da lista resultado após a execução do loop, e qual será o valor da variável resultado_final? Explique como o código funciona."
      ],
      "metadata": {
        "id": "cTZ7baShHAzm"
      }
    },
    {
      "cell_type": "code",
      "source": [
        "#Exercício 4\n",
        "numeros = [1, 2, 3, 4, 5, 6]\n",
        "resultado = []\n",
        "\n",
        "for i in range(len(numeros)):\n",
        "  if i % 2 == 0:\n",
        "    resultado.append(numeros[i] ** 2)\n",
        "  else:\n",
        "    resultado.append(numeros[i] * 2)\n",
        "\n",
        "print(resultado)\n",
        "resultado_final = sum(resultado)\n",
        "print(resultado_final)"
      ],
      "metadata": {
        "colab": {
          "base_uri": "https://localhost:8080/"
        },
        "id": "9YtnHqE-HOrU",
        "outputId": "1cfe5a10-93dc-4aba-f2cb-90b2dec7b45d"
      },
      "execution_count": 20,
      "outputs": [
        {
          "output_type": "stream",
          "name": "stdout",
          "text": [
            "[1, 4, 9, 8, 25, 12]\n",
            "59\n"
          ]
        }
      ]
    },
    {
      "cell_type": "markdown",
      "source": [
        "R: resultado = [1, 4, 9, 8, 25, 12]\n",
        "resultado_final = 59\n",
        "\n",
        "O código inicializa a lista \"numeros\" com os seguintes elementos: [1, 2, 3, 4, 5, 6]. É declarada lista \"resultado\" vazia, sem elementos definidos.\n",
        "\n",
        "Os índices da lista são percorridos através de uma estrutura de repetição for, iniciando em i na posição 0 até o tamanho da lista números, obtido pelo comando len.\n",
        "\n",
        "O índice é verificado e se o resto da divisão dele por 2 for 0, será adicionado o elemento daquele índice da lista numeros elevado a 2 na lista resultado. Senão, será adicionado o elemento daquele índice da lista numeros multiplicado por 2 na lista resultado.\n",
        "\n",
        "Ao final é exibida a lista resultado e resultado_final recebe a soma de todos os elementos da lista e exibe"
      ],
      "metadata": {
        "id": "_5Z0CUqQI5Ud"
      }
    }
  ]
}